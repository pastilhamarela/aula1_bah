{
  "nbformat": 4,
  "nbformat_minor": 0,
  "metadata": {
    "colab": {
      "provenance": [],
      "authorship_tag": "ABX9TyPEIisE1ky66mi5t6uX8xHB",
      "include_colab_link": true
    },
    "kernelspec": {
      "name": "python3",
      "display_name": "Python 3"
    },
    "language_info": {
      "name": "python"
    }
  },
  "cells": [
    {
      "cell_type": "markdown",
      "metadata": {
        "id": "view-in-github",
        "colab_type": "text"
      },
      "source": [
        "<a href=\"https://colab.research.google.com/github/pastilhamarela/aula1_bah/blob/main/Primeira_Aula/Aula1_BAH.ipynb\" target=\"_parent\"><img src=\"https://colab.research.google.com/assets/colab-badge.svg\" alt=\"Open In Colab\"/></a>"
      ]
    },
    {
      "cell_type": "markdown",
      "source": [
        "#Primeira aula do curso BAH."
      ],
      "metadata": {
        "id": "7YxWEjABUbYf"
      }
    },
    {
      "cell_type": "markdown",
      "source": [
        "## Início"
      ],
      "metadata": {
        "id": "DeWsfwyuXEy_"
      }
    },
    {
      "cell_type": "markdown",
      "source": [
        "Fazendo um Print básico."
      ],
      "metadata": {
        "id": "8XBryfYFVAcI"
      }
    },
    {
      "cell_type": "code",
      "execution_count": 1,
      "metadata": {
        "colab": {
          "base_uri": "https://localhost:8080/"
        },
        "id": "8-VEaARtUarB",
        "outputId": "03038899-46c5-4895-eaa1-fcd6f64f10bf"
      },
      "outputs": [
        {
          "output_type": "stream",
          "name": "stdout",
          "text": [
            "Olá, mundo!\n"
          ]
        }
      ],
      "source": [
        "print('Olá, mundo!')"
      ]
    },
    {
      "cell_type": "markdown",
      "source": [
        "Colocando um comentário dentro do código."
      ],
      "metadata": {
        "id": "8WiP3_-lVDf2"
      }
    },
    {
      "cell_type": "code",
      "source": [
        "#Inciciando o código."
      ],
      "metadata": {
        "id": "N685G8VNU0-J"
      },
      "execution_count": 2,
      "outputs": []
    },
    {
      "cell_type": "markdown",
      "source": [
        "Realizando operações matemáticas."
      ],
      "metadata": {
        "id": "doQ7a31VVG49"
      }
    },
    {
      "cell_type": "code",
      "source": [
        "# Soma\n",
        "print(1+3)\n",
        "\n",
        "# Subtração\n",
        "print(4-2)\n",
        "\n",
        "# Multiplicação\n",
        "print(3*2)\n",
        "\n",
        "# Divisão\n",
        "print(2/4)\n",
        "\n",
        "# Potência\n",
        "print(5**4)\n",
        "\n",
        "# Resto da divisão\n",
        "print(3%1)"
      ],
      "metadata": {
        "colab": {
          "base_uri": "https://localhost:8080/"
        },
        "id": "Wymr6a1aVR54",
        "outputId": "55fcb4de-8114-47a6-dc21-3c2ddc152e80"
      },
      "execution_count": 8,
      "outputs": [
        {
          "output_type": "stream",
          "name": "stdout",
          "text": [
            "4\n",
            "2\n",
            "6\n",
            "0.5\n",
            "625\n",
            "0\n"
          ]
        }
      ]
    },
    {
      "cell_type": "markdown",
      "source": [
        "Criando uma função para juros compostos."
      ],
      "metadata": {
        "id": "qhq-bxw5V9HB"
      }
    },
    {
      "cell_type": "code",
      "source": [
        "# Fórmula fv = pv * (1 + i)**t\n",
        "juros = 130 * (1+0.1)**3 ; print(juros)"
      ],
      "metadata": {
        "colab": {
          "base_uri": "https://localhost:8080/"
        },
        "id": "TTk4oN68WY2i",
        "outputId": "f4556826-82b7-4511-b0d2-7ef66801fac1"
      },
      "execution_count": 10,
      "outputs": [
        {
          "output_type": "stream",
          "name": "stdout",
          "text": [
            "173.03000000000006\n"
          ]
        }
      ]
    },
    {
      "cell_type": "markdown",
      "source": [
        "Juntando múltiplos elementos no print."
      ],
      "metadata": {
        "id": "XkLgo0kjWrjL"
      }
    },
    {
      "cell_type": "code",
      "source": [
        "print('Estou devendo para o agiota:', juros, 'reais.')"
      ],
      "metadata": {
        "colab": {
          "base_uri": "https://localhost:8080/"
        },
        "id": "GMG1dw1TW41Z",
        "outputId": "2136a6b6-0e51-4618-e7fe-4d3ee956b1e3"
      },
      "execution_count": 11,
      "outputs": [
        {
          "output_type": "stream",
          "name": "stdout",
          "text": [
            "Estou devendo para o agiota: 173.03000000000006 reais.\n"
          ]
        }
      ]
    },
    {
      "cell_type": "markdown",
      "source": [],
      "metadata": {
        "id": "XXc0U_xrW_sh"
      }
    },
    {
      "cell_type": "markdown",
      "source": [
        "## Avançando"
      ],
      "metadata": {
        "id": "TcvgyQgeXHZ-"
      }
    },
    {
      "cell_type": "markdown",
      "source": [
        "Mudando a fórmula dos juros."
      ],
      "metadata": {
        "id": "rIKloNjgXKrw"
      }
    },
    {
      "cell_type": "code",
      "source": [
        "valor_presente = 100\n",
        "taxa_de_juros = 0.05\n",
        "prazo = 3\n",
        "\n",
        "valor_futuro = valor_presente * (1+taxa_de_juros)**prazo ; print(valor_futuro)"
      ],
      "metadata": {
        "colab": {
          "base_uri": "https://localhost:8080/"
        },
        "id": "4kgmCnNAXO57",
        "outputId": "703f1a7b-d60d-45cd-ccf4-2f6cd2620778"
      },
      "execution_count": 14,
      "outputs": [
        {
          "output_type": "stream",
          "name": "stdout",
          "text": [
            "115.76250000000002\n"
          ]
        }
      ]
    },
    {
      "cell_type": "markdown",
      "source": [
        "Criando a fórmula do IMC."
      ],
      "metadata": {
        "id": "VyT4xjppXwyB"
      }
    },
    {
      "cell_type": "code",
      "source": [
        "peso = 120\n",
        "altura = 2.25\n",
        "\n",
        "IMC = peso/(altura)**2 ; print(IMC)"
      ],
      "metadata": {
        "colab": {
          "base_uri": "https://localhost:8080/"
        },
        "id": "vdvTTAWnYG7l",
        "outputId": "4660f230-7283-4632-9677-bb096197c7bb"
      },
      "execution_count": 23,
      "outputs": [
        {
          "output_type": "stream",
          "name": "stdout",
          "text": [
            "23.703703703703702\n"
          ]
        }
      ]
    }
  ]
}